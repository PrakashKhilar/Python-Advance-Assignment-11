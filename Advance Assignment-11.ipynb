{
 "cells": [
  {
   "cell_type": "markdown",
   "id": "108ad04a",
   "metadata": {},
   "source": [
    "# Advance Assignment-11"
   ]
  },
  {
   "cell_type": "code",
   "execution_count": 1,
   "id": "e48bb4b5",
   "metadata": {},
   "outputs": [],
   "source": [
    "# Q1. What is the concept of a metaclass?"
   ]
  },
  {
   "cell_type": "code",
   "execution_count": null,
   "id": "86005caf",
   "metadata": {},
   "outputs": [],
   "source": [
    "# Ans;\n",
    "\n",
    "Metaclass in Python is a class of a class that defines how a class behaves. \n",
    "A class is itself a instance of Metaclass, and any Instance of Class in Python is an Instance of type metaclass. \n",
    "\n",
    "E.g. Type of of int, str, float, list, tuple and many more is of metaclass type.\n",
    "\n"
   ]
  },
  {
   "cell_type": "code",
   "execution_count": null,
   "id": "a4e61e0b",
   "metadata": {},
   "outputs": [],
   "source": [
    "# our metaclass\n",
    "class MultiBases(type):\n",
    "\t# overriding __new__ method\n",
    "\tdef __new__(cls, clsname, bases, clsdict):\n",
    "\t\t# if no of base classes is greater than 1\n",
    "\t\t# raise error\n",
    "\t\tif len(bases)>1:\n",
    "\t\t\traise TypeError(\"Inherited multiple base classes!!!\")\n",
    "\t\t\n",
    "\t\t# else execute __new__ method of super class, ie.\n",
    "\t\t# call __init__ of type class\n",
    "\t\treturn super().__new__(cls, clsname, bases, clsdict)\n",
    "\n",
    "# metaclass can be specified by 'metaclass' keyword argument\n",
    "# now MultiBase class is used for creating classes\n",
    "# this will be propagated to all subclasses of Base\n",
    "class Base(metaclass=MultiBases):\n",
    "\tpass\n",
    "\n",
    "# no error is raised\n",
    "class A(Base):\n",
    "\tpass\n",
    "\n",
    "# no error is raised\n",
    "class B(Base):\n",
    "\tpass\n",
    "\n",
    "# This will raise an error!\n",
    "class C(A, B):\n",
    "\tpass"
   ]
  },
  {
   "cell_type": "code",
   "execution_count": 2,
   "id": "e1bb4372",
   "metadata": {},
   "outputs": [],
   "source": [
    "# Q2. What is the best way to declare a class's metaclass?"
   ]
  },
  {
   "cell_type": "code",
   "execution_count": null,
   "id": "449a432a",
   "metadata": {},
   "outputs": [],
   "source": [
    "# Ans;\n",
    "\n",
    "A way to declare a class’ metaclass is by using metaclass keyword in class definition."
   ]
  },
  {
   "cell_type": "code",
   "execution_count": null,
   "id": "622cc837",
   "metadata": {},
   "outputs": [],
   "source": [
    "class meta(type):\n",
    "    pass\n",
    "class class_meta(metaclass=meta):\n",
    "    pass\n",
    "print(type(meta))\n",
    "print(type(class_meta))"
   ]
  },
  {
   "cell_type": "code",
   "execution_count": 3,
   "id": "9cb35280",
   "metadata": {},
   "outputs": [],
   "source": [
    "# Q3. How do class decorators overlap with metaclasses for handling classes ?"
   ]
  },
  {
   "cell_type": "code",
   "execution_count": null,
   "id": "81ed8d78",
   "metadata": {},
   "outputs": [],
   "source": [
    "# Ans;\n",
    "\n",
    "Anything you can do with a class decorator, you can of course do with a custom metaclasses (just apply the functionality of the \"decorator function\",\n",
    "i.e., the one that takes a class object and modifies it, in the course of the metaclass's __new__ or __init__ that make the class object!)."
   ]
  },
  {
   "cell_type": "code",
   "execution_count": 4,
   "id": "065fe2c5",
   "metadata": {},
   "outputs": [],
   "source": [
    "# Q4. How do class decorators overlap with metaclasses for handling instances?"
   ]
  },
  {
   "cell_type": "code",
   "execution_count": null,
   "id": "971dcc26",
   "metadata": {},
   "outputs": [],
   "source": [
    "# Ans;\n",
    "\n",
    "Anything you can do with a class decorator, you can of course do with a custom metaclass (just apply the functionality of the \"decorator function\", \n",
    "i.e., the one that takes a class object and modifies it, in the course of the metaclass's __new__ or __init__ that make the class object!)."
   ]
  },
  {
   "cell_type": "code",
   "execution_count": null,
   "id": "e956ed44",
   "metadata": {},
   "outputs": [],
   "source": []
  }
 ],
 "metadata": {
  "kernelspec": {
   "display_name": "Python 3 (ipykernel)",
   "language": "python",
   "name": "python3"
  },
  "language_info": {
   "codemirror_mode": {
    "name": "ipython",
    "version": 3
   },
   "file_extension": ".py",
   "mimetype": "text/x-python",
   "name": "python",
   "nbconvert_exporter": "python",
   "pygments_lexer": "ipython3",
   "version": "3.9.12"
  }
 },
 "nbformat": 4,
 "nbformat_minor": 5
}
